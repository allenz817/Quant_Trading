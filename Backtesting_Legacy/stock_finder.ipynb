{
 "cells": [
  {
   "cell_type": "code",
   "execution_count": null,
   "metadata": {},
   "outputs": [],
   "source": [
    "import yfinance as yf\n",
    "import pandas as pd\n",
    "\n",
    "# Define the market capitalization threshold (billion HKD)\n",
    "market_cap_threshold = 5e9\n",
    "\n",
    "# Read the Excel file and extract the stock tickers\n",
    "excel_file = 'ListOfSecurities.xlsx'\n",
    "df = pd.read_excel(excel_file, sheet_name='ListOfSecurities')\n",
    "tickers = df['Stock Code'][3:2262].apply(lambda x: f\"{int(x):04d}.HK\").tolist()\n",
    "\n",
    "# Initialize an empty list to store selected stocks\n",
    "selected_stocks = []\n",
    "\n",
    "# Loop through each ticker and fetch stock data\n",
    "for ticker in tickers:\n",
    "    try:\n",
    "        stock = yf.Ticker(ticker)\n",
    "        info = stock.info\n",
    "        \n",
    "        # Check if the market capitalization is greater than the threshold\n",
    "        if info.get('marketCap', 0) > market_cap_threshold:\n",
    "            selected_stocks.append(ticker)\n",
    "    except Exception as e:\n",
    "        print(f\"Error fetching data for {ticker}: {e}\")\n",
    "\n",
    "# Print the selected stocks\n",
    "print(f\"Selected {len(selected_stocks)} Stocks:\", selected_stocks)"
   ]
  }
 ],
 "metadata": {
  "kernelspec": {
   "display_name": "Python 3",
   "language": "python",
   "name": "python3"
  },
  "language_info": {
   "codemirror_mode": {
    "name": "ipython",
    "version": 3
   },
   "file_extension": ".py",
   "mimetype": "text/x-python",
   "name": "python",
   "nbconvert_exporter": "python",
   "pygments_lexer": "ipython3",
   "version": "3.12.7"
  }
 },
 "nbformat": 4,
 "nbformat_minor": 2
}
