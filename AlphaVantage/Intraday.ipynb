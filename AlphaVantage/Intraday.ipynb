{
 "cells": [
  {
   "cell_type": "code",
   "execution_count": 3,
   "metadata": {},
   "outputs": [
    {
     "name": "stdout",
     "output_type": "stream",
     "text": [
      "                         Open      High       Low     Close Volume\n",
      "2025-02-18 11:00:00  261.0100  261.2800  260.9300  261.1650  35189\n",
      "2025-02-18 11:05:00  261.1200  261.9300  261.0900  261.9300  36306\n",
      "2025-02-18 11:10:00  261.8900  262.0600  261.6211  261.6861  32137\n",
      "2025-02-18 11:15:00  261.6375  261.9699  261.1447  261.1800  35837\n",
      "2025-02-18 11:20:00  261.1612  261.4000  261.1612  261.4000  20638\n",
      "...                       ...       ...       ...       ...    ...\n",
      "2025-02-18 19:30:00  263.2200  263.2200  263.0700  263.0800     56\n",
      "2025-02-18 19:35:00  263.0700  263.0800  263.0700  263.0800      7\n",
      "2025-02-18 19:40:00  263.3400  263.3500  263.3400  263.3500     56\n",
      "2025-02-18 19:50:00  263.3400  263.3400  263.3400  263.3400      1\n",
      "2025-02-18 19:55:00  263.3300  263.3300  263.0800  263.0800     21\n",
      "\n",
      "[100 rows x 5 columns]\n"
     ]
    }
   ],
   "source": [
    "import requests\n",
    "import pandas as pd\n",
    "\n",
    "# replace the \"demo\" apikey below with your own key from https://www.alphavantage.co/support/#api-key\n",
    "url = 'https://www.alphavantage.co/query?function=TIME_SERIES_INTRADAY&symbol=IBM&interval=5min&apikey=9UA3EPW059YLXFOB'\n",
    "r = requests.get(url)\n",
    "data = r.json()\n",
    "\n",
    "# Extract the time series data\n",
    "time_series = data.get('Time Series (5min)', {})\n",
    "\n",
    "# Convert the time series data to a pandas DataFrame\n",
    "df = pd.DataFrame.from_dict(time_series, orient='index')\n",
    "\n",
    "# Rename the columns for better readability\n",
    "df.columns = ['Open', 'High', 'Low', 'Close', 'Volume']\n",
    "\n",
    "# Convert the index to datetime\n",
    "df.index = pd.to_datetime(df.index)\n",
    "\n",
    "# Sort the DataFrame by index (datetime)\n",
    "df = df.sort_index()\n",
    "\n",
    "# Print the DataFrame\n",
    "print(df)"
   ]
  }
 ],
 "metadata": {
  "kernelspec": {
   "display_name": "Python 3",
   "language": "python",
   "name": "python3"
  },
  "language_info": {
   "codemirror_mode": {
    "name": "ipython",
    "version": 3
   },
   "file_extension": ".py",
   "mimetype": "text/x-python",
   "name": "python",
   "nbconvert_exporter": "python",
   "pygments_lexer": "ipython3",
   "version": "3.12.7"
  }
 },
 "nbformat": 4,
 "nbformat_minor": 2
}
